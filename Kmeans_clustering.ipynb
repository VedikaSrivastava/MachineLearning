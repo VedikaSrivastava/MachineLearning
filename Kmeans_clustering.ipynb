{
 "cells": [
  {
   "cell_type": "markdown",
   "metadata": {},
   "source": [
    "Author: Vedika Srivastava<br>\n",
    "Date created: 24/05/2021<br>\n",
    "Title: K-means clustering"
   ]
  },
  {
   "cell_type": "code",
   "execution_count": 33,
   "metadata": {},
   "outputs": [],
   "source": [
    "import pandas as pd\n",
    "import numpy as np\n",
    "import matplotlib.pyplot as plt\n",
    "from sklearn.cluster import KMeans"
   ]
  },
  {
   "cell_type": "markdown",
   "metadata": {},
   "source": [
    "# <center>1D Data<br>(data from the manual)</center>"
   ]
  },
  {
   "cell_type": "code",
   "execution_count": 6,
   "metadata": {},
   "outputs": [],
   "source": [
    "#dataset\n",
    "data = {'x':[19, 15, 15, 16, 19, 19, 20, 20, 21, 22, 28, 35, 40, 41, 42, 43, 44, 60, 61, \n",
    "             65]}\n",
    "\n",
    "df = pd.DataFrame(data)"
   ]
  },
  {
   "cell_type": "code",
   "execution_count": 7,
   "metadata": {},
   "outputs": [],
   "source": [
    "#for 2 clusters\n",
    "model2 = KMeans(n_clusters=2)\n",
    "\n",
    "model2.fit(df)\n",
    "\n",
    "clusassign = model2.predict(df)"
   ]
  },
  {
   "cell_type": "code",
   "execution_count": 17,
   "metadata": {},
   "outputs": [
    {
     "name": "stdout",
     "output_type": "stream",
     "text": [
      "Predicted clusters\n"
     ]
    },
    {
     "data": {
      "text/plain": [
       "array([0, 0, 0, 0, 0, 0, 0, 0, 0, 0, 0, 1, 1, 1, 1, 1, 1, 1, 1, 1])"
      ]
     },
     "execution_count": 17,
     "metadata": {},
     "output_type": "execute_result"
    }
   ],
   "source": [
    "print(\"Predicted clusters\")\n",
    "clusassign"
   ]
  },
  {
   "cell_type": "code",
   "execution_count": 16,
   "metadata": {},
   "outputs": [
    {
     "name": "stdout",
     "output_type": "stream",
     "text": [
      "Centroids\n"
     ]
    },
    {
     "data": {
      "text/plain": [
       "array([[19.45454545],\n",
       "       [47.88888889]])"
      ]
     },
     "execution_count": 16,
     "metadata": {},
     "output_type": "execute_result"
    }
   ],
   "source": [
    "print(\"Centroids\")\n",
    "model2.cluster_centers_"
   ]
  },
  {
   "cell_type": "code",
   "execution_count": 39,
   "metadata": {},
   "outputs": [
    {
     "data": {
      "image/png": "[encoded data removed]",
      "text/plain": [
       "<Figure size 432x288 with 1 Axes>"
      ]
     },
     "metadata": {
      "needs_background": "light"
     },
     "output_type": "display_data"
    }
   ],
   "source": [
    "plt.scatter(df.x,np.zeros(len(df)), c=clusassign, label=[\"Cluster 0\",\"Cluster 1\"])\n",
    "plt.scatter(model2.cluster_centers_, np.zeros(len(model2.cluster_centers_)), c='red',\n",
    "            s= 100, label=\"Centroids\")\n",
    "plt.legend(loc='lower right')\n",
    "plt.show()"
   ]
  },
  {
   "cell_type": "code",
   "execution_count": 40,
   "metadata": {},
   "outputs": [
    {
     "data": {
      "image/png": "[encoded data removed]",
      "text/plain": [
       "<Figure size 432x288 with 1 Axes>"
      ]
     },
     "metadata": {
      "needs_background": "light"
     },
     "output_type": "display_data"
    }
   ],
   "source": [
    "#for 3 clusters\n",
    "model3 = KMeans(n_clusters=3)\n",
    "model3.fit(df)\n",
    "clusassign = model3.predict(df)\n",
    "\n",
    "plt.scatter(df.x,np.zeros(len(df)), c=clusassign, label=[\"Cluster 0\",\"Cluster 1\",\"Cluster 2\"])\n",
    "plt.scatter(model3.cluster_centers_, np.zeros(len(model3.cluster_centers_)), c='red', \n",
    "            s= 100, label=\"Centroids\")\n",
    "plt.legend(loc='lower right')\n",
    "plt.show()"
   ]
  },
  {
   "cell_type": "code",
   "execution_count": 42,
   "metadata": {},
   "outputs": [
    {
     "name": "stdout",
     "output_type": "stream",
     "text": [
      "Centroids are : \n",
      "  [[40.83333333]\n",
      " [19.45454545]\n",
      " [62.        ]]\n"
     ]
    }
   ],
   "source": [
    "print(\"Centroids are : \\n \",model3.cluster_centers_)"
   ]
  },
  {
   "cell_type": "markdown",
   "metadata": {},
   "source": [
    "# <center>2D Data<br>(random data)</center>"
   ]
  },
  {
   "cell_type": "code",
   "execution_count": 50,
   "metadata": {},
   "outputs": [
    {
     "data": {
      "text/html": [
       "<div>\n",
       "<style scoped>\n",
       "    .dataframe tbody tr th:only-of-type {\n",
       "        vertical-align: middle;\n",
       "    }\n",
       "\n",
       "    .dataframe tbody tr th {\n",
       "        vertical-align: top;\n",
       "    }\n",
       "\n",
       "    .dataframe thead th {\n",
       "        text-align: right;\n",
       "    }\n",
       "</style>\n",
       "<table border=\"1\" class=\"dataframe\">\n",
       "  <thead>\n",
       "    <tr style=\"text-align: right;\">\n",
       "      <th></th>\n",
       "      <th>x1</th>\n",
       "      <th>x2</th>\n",
       "    </tr>\n",
       "  </thead>\n",
       "  <tbody>\n",
       "    <tr>\n",
       "      <th>0</th>\n",
       "      <td>0.513123</td>\n",
       "      <td>0.560475</td>\n",
       "    </tr>\n",
       "    <tr>\n",
       "      <th>1</th>\n",
       "      <td>0.083116</td>\n",
       "      <td>0.568651</td>\n",
       "    </tr>\n",
       "    <tr>\n",
       "      <th>2</th>\n",
       "      <td>0.227807</td>\n",
       "      <td>0.179123</td>\n",
       "    </tr>\n",
       "    <tr>\n",
       "      <th>3</th>\n",
       "      <td>0.775573</td>\n",
       "      <td>0.125831</td>\n",
       "    </tr>\n",
       "    <tr>\n",
       "      <th>4</th>\n",
       "      <td>0.213870</td>\n",
       "      <td>0.808013</td>\n",
       "    </tr>\n",
       "    <tr>\n",
       "      <th>5</th>\n",
       "      <td>0.203387</td>\n",
       "      <td>0.523014</td>\n",
       "    </tr>\n",
       "    <tr>\n",
       "      <th>6</th>\n",
       "      <td>0.884253</td>\n",
       "      <td>0.872510</td>\n",
       "    </tr>\n",
       "    <tr>\n",
       "      <th>7</th>\n",
       "      <td>0.636002</td>\n",
       "      <td>0.191135</td>\n",
       "    </tr>\n",
       "    <tr>\n",
       "      <th>8</th>\n",
       "      <td>0.271454</td>\n",
       "      <td>0.084211</td>\n",
       "    </tr>\n",
       "    <tr>\n",
       "      <th>9</th>\n",
       "      <td>0.871282</td>\n",
       "      <td>0.331909</td>\n",
       "    </tr>\n",
       "    <tr>\n",
       "      <th>10</th>\n",
       "      <td>0.908638</td>\n",
       "      <td>0.716073</td>\n",
       "    </tr>\n",
       "    <tr>\n",
       "      <th>11</th>\n",
       "      <td>0.329911</td>\n",
       "      <td>0.047819</td>\n",
       "    </tr>\n",
       "    <tr>\n",
       "      <th>12</th>\n",
       "      <td>0.511768</td>\n",
       "      <td>0.983869</td>\n",
       "    </tr>\n",
       "    <tr>\n",
       "      <th>13</th>\n",
       "      <td>0.531669</td>\n",
       "      <td>0.331924</td>\n",
       "    </tr>\n",
       "    <tr>\n",
       "      <th>14</th>\n",
       "      <td>0.521268</td>\n",
       "      <td>0.419979</td>\n",
       "    </tr>\n",
       "    <tr>\n",
       "      <th>15</th>\n",
       "      <td>0.129247</td>\n",
       "      <td>0.209399</td>\n",
       "    </tr>\n",
       "    <tr>\n",
       "      <th>16</th>\n",
       "      <td>0.157228</td>\n",
       "      <td>0.041367</td>\n",
       "    </tr>\n",
       "    <tr>\n",
       "      <th>17</th>\n",
       "      <td>0.528085</td>\n",
       "      <td>0.449392</td>\n",
       "    </tr>\n",
       "    <tr>\n",
       "      <th>18</th>\n",
       "      <td>0.906126</td>\n",
       "      <td>0.345568</td>\n",
       "    </tr>\n",
       "    <tr>\n",
       "      <th>19</th>\n",
       "      <td>0.495304</td>\n",
       "      <td>0.484750</td>\n",
       "    </tr>\n",
       "  </tbody>\n",
       "</table>\n",
       "</div>"
      ],
      "text/plain": [
       "          x1        x2\n",
       "0   0.513123  0.560475\n",
       "1   0.083116  0.568651\n",
       "2   0.227807  0.179123\n",
       "3   0.775573  0.125831\n",
       "4   0.213870  0.808013\n",
       "5   0.203387  0.523014\n",
       "6   0.884253  0.872510\n",
       "7   0.636002  0.191135\n",
       "8   0.271454  0.084211\n",
       "9   0.871282  0.331909\n",
       "10  0.908638  0.716073\n",
       "11  0.329911  0.047819\n",
       "12  0.511768  0.983869\n",
       "13  0.531669  0.331924\n",
       "14  0.521268  0.419979\n",
       "15  0.129247  0.209399\n",
       "16  0.157228  0.041367\n",
       "17  0.528085  0.449392\n",
       "18  0.906126  0.345568\n",
       "19  0.495304  0.484750"
      ]
     },
     "execution_count": 50,
     "metadata": {},
     "output_type": "execute_result"
    }
   ],
   "source": [
    "data_2d = {'x1':np.random.uniform(0,1,20),\n",
    "        'x2':np.random.uniform(0,1,20)}\n",
    "df_2d = pd.DataFrame(data)\n",
    "df_2d"
   ]
  },
  {
   "cell_type": "code",
   "execution_count": 55,
   "metadata": {},
   "outputs": [
    {
     "data": {
      "image/png": "[encoded data removed]",
      "text/plain": [
       "<Figure size 432x288 with 1 Axes>"
      ]
     },
     "metadata": {
      "needs_background": "light"
     },
     "output_type": "display_data"
    }
   ],
   "source": [
    "#for 3 clusters\n",
    "model = KMeans(n_clusters=3)\n",
    "model.fit(df_2d)\n",
    "clusassign = model.predict(df_2d)\n",
    "\n",
    "plt.scatter(df_2d.x1, df_2d.x2, c=clusassign, label=[\"Clusters\"])\n",
    "plt.scatter(model.cluster_centers_[:,0], model.cluster_centers_[:,1], c='red', s= 100, \n",
    "            label=\"Centroids\")\n",
    "plt.legend(loc='lower right')\n",
    "plt.show()"
   ]
  },
  {
   "cell_type": "code",
   "execution_count": 52,
   "metadata": {},
   "outputs": [
    {
     "name": "stdout",
     "output_type": "stream",
     "text": [
      "Centroids are : \n",
      "  [[0.64204818 0.3601071 ]\n",
      " [0.20030715 0.23622624]\n",
      " [0.62963214 0.84511653]]\n"
     ]
    }
   ],
   "source": [
    "print(\"Centroids are : \\n \",model.cluster_centers_)"
   ]
  },
  {
   "cell_type": "code",
   "execution_count": 56,
   "metadata": {},
   "outputs": [
    {
     "data": {
      "image/png": "[encoded data removed]",
      "text/plain": [
       "<Figure size 432x288 with 1 Axes>"
      ]
     },
     "metadata": {
      "needs_background": "light"
     },
     "output_type": "display_data"
    }
   ],
   "source": [
    "#for 2 clusters\n",
    "model = KMeans(n_clusters=2)\n",
    "model.fit(df_2d)\n",
    "clusassign = model.predict(df_2d)\n",
    "\n",
    "plt.scatter(df_2d.x1, df_2d.x2, c=clusassign, label=[\"Clusters\"])\n",
    "plt.scatter(model.cluster_centers_[:,0], model.cluster_centers_[:,1], c='red', s= 100, \n",
    "            label=\"Centroids\")\n",
    "plt.legend(loc='lower right')\n",
    "plt.show()"
   ]
  },
  {
   "cell_type": "code",
   "execution_count": 57,
   "metadata": {},
   "outputs": [
    {
     "name": "stdout",
     "output_type": "stream",
     "text": [
      "Centroids are : \n",
      "  [[0.67359105 0.48445138]\n",
      " [0.20200244 0.30769964]]\n"
     ]
    }
   ],
   "source": [
    "print(\"Centroids are : \\n \",model.cluster_centers_)"
   ]
  }
 ],
 "metadata": {
  "kernelspec": {
   "display_name": "Python 3",
   "language": "python",
   "name": "python3"
  },
  "language_info": {
   "codemirror_mode": {
    "name": "ipython",
    "version": 3
   },
   "file_extension": ".py",
   "mimetype": "text/x-python",
   "name": "python",
   "nbconvert_exporter": "python",
   "pygments_lexer": "ipython3",
   "version": "3.8.5"
  }
 },
 "nbformat": 4,
 "nbformat_minor": 4
}
