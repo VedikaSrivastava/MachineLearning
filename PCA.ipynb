{
 "cells": [
  {
   "cell_type": "markdown",
   "metadata": {},
   "source": [
    "Author: Vedika Srivastava <br>\n",
    "Date created: 17/05/2021 <br>\n",
    "Title: Principal Component Analysis"
   ]
  },
  {
   "cell_type": "code",
   "execution_count": 19,
   "metadata": {},
   "outputs": [],
   "source": [
    "#import libraries\n",
    "import pandas as pd\n",
    "import numpy as np\n",
    "import matplotlib.pyplot as plt\n",
    "from sklearn.decomposition import PCA"
   ]
  },
  {
   "cell_type": "code",
   "execution_count": 2,
   "metadata": {},
   "outputs": [],
   "source": [
    "#dataset\n",
    "data = {'x':[2.5,0.5,2.2,1.9,3.1,2.3,2.0,1.0,1.5,1.2],\n",
    "       'y':[2.4,0.7,2.9,2.2,3.0,2.7,1.6,1.1,1.6,0.9]}\n",
    "\n",
    "df = pd.DataFrame(data)"
   ]
  },
  {
   "cell_type": "code",
   "execution_count": 3,
   "metadata": {},
   "outputs": [
    {
     "data": {
      "text/html": [
       "<div>\n",
       "<style scoped>\n",
       "    .dataframe tbody tr th:only-of-type {\n",
       "        vertical-align: middle;\n",
       "    }\n",
       "\n",
       "    .dataframe tbody tr th {\n",
       "        vertical-align: top;\n",
       "    }\n",
       "\n",
       "    .dataframe thead th {\n",
       "        text-align: right;\n",
       "    }\n",
       "</style>\n",
       "<table border=\"1\" class=\"dataframe\">\n",
       "  <thead>\n",
       "    <tr style=\"text-align: right;\">\n",
       "      <th></th>\n",
       "      <th>x</th>\n",
       "      <th>y</th>\n",
       "    </tr>\n",
       "  </thead>\n",
       "  <tbody>\n",
       "    <tr>\n",
       "      <th>0</th>\n",
       "      <td>2.5</td>\n",
       "      <td>2.4</td>\n",
       "    </tr>\n",
       "    <tr>\n",
       "      <th>1</th>\n",
       "      <td>0.5</td>\n",
       "      <td>0.7</td>\n",
       "    </tr>\n",
       "    <tr>\n",
       "      <th>2</th>\n",
       "      <td>2.2</td>\n",
       "      <td>2.9</td>\n",
       "    </tr>\n",
       "    <tr>\n",
       "      <th>3</th>\n",
       "      <td>1.9</td>\n",
       "      <td>2.2</td>\n",
       "    </tr>\n",
       "    <tr>\n",
       "      <th>4</th>\n",
       "      <td>3.1</td>\n",
       "      <td>3.0</td>\n",
       "    </tr>\n",
       "    <tr>\n",
       "      <th>5</th>\n",
       "      <td>2.3</td>\n",
       "      <td>2.7</td>\n",
       "    </tr>\n",
       "    <tr>\n",
       "      <th>6</th>\n",
       "      <td>2.0</td>\n",
       "      <td>1.6</td>\n",
       "    </tr>\n",
       "    <tr>\n",
       "      <th>7</th>\n",
       "      <td>1.0</td>\n",
       "      <td>1.1</td>\n",
       "    </tr>\n",
       "    <tr>\n",
       "      <th>8</th>\n",
       "      <td>1.5</td>\n",
       "      <td>1.6</td>\n",
       "    </tr>\n",
       "    <tr>\n",
       "      <th>9</th>\n",
       "      <td>1.2</td>\n",
       "      <td>0.9</td>\n",
       "    </tr>\n",
       "  </tbody>\n",
       "</table>\n",
       "</div>"
      ],
      "text/plain": [
       "     x    y\n",
       "0  2.5  2.4\n",
       "1  0.5  0.7\n",
       "2  2.2  2.9\n",
       "3  1.9  2.2\n",
       "4  3.1  3.0\n",
       "5  2.3  2.7\n",
       "6  2.0  1.6\n",
       "7  1.0  1.1\n",
       "8  1.5  1.6\n",
       "9  1.2  0.9"
      ]
     },
     "execution_count": 3,
     "metadata": {},
     "output_type": "execute_result"
    }
   ],
   "source": [
    "df"
   ]
  },
  {
   "cell_type": "code",
   "execution_count": 46,
   "metadata": {},
   "outputs": [],
   "source": [
    "pca_1 = PCA(1)\n",
    "df_pca = pca_1.fit_transform(df)"
   ]
  },
  {
   "cell_type": "code",
   "execution_count": 47,
   "metadata": {},
   "outputs": [
    {
     "data": {
      "image/png": "[encoded data removed]",
      "text/plain": [
       "<Figure size 432x288 with 1 Axes>"
      ]
     },
     "metadata": {
      "needs_background": "light"
     },
     "output_type": "display_data"
    }
   ],
   "source": [
    "plt.scatter(x=df_pca[:,0], y=df_pca[:,0])\n",
    "plt.xlabel('x_red')\n",
    "plt.ylabel('y_red')\n",
    "plt.title('Reduced 1D data')\n",
    "plt.show()"
   ]
  },
  {
   "cell_type": "code",
   "execution_count": 33,
   "metadata": {},
   "outputs": [
    {
     "data": {
      "text/plain": [
       "Text(0.5, 1.0, 'original data')"
      ]
     },
     "execution_count": 33,
     "metadata": {},
     "output_type": "execute_result"
    },
    {
     "data": {
      "image/png": "[encoded data removed]",
      "text/plain": [
       "<Figure size 432x288 with 1 Axes>"
      ]
     },
     "metadata": {
      "needs_background": "light"
     },
     "output_type": "display_data"
    }
   ],
   "source": [
    "plt.scatter(df.x,df.y)\n",
    "plt.xlabel('x')\n",
    "plt.ylabel('y')\n",
    "plt.title('original data')"
   ]
  },
  {
   "cell_type": "code",
   "execution_count": 34,
   "metadata": {},
   "outputs": [
    {
     "name": "stdout",
     "output_type": "stream",
     "text": [
      "Reduced 1D data\n",
      " [[-0.82002894]\n",
      " [ 1.78329382]\n",
      " [-0.98806579]\n",
      " [-0.26836447]\n",
      " [-1.66760613]\n",
      " [-0.90739411]\n",
      " [ 0.10821993]\n",
      " [ 1.15095768]\n",
      " [ 0.44464335]\n",
      " [ 1.16434467]]\n"
     ]
    }
   ],
   "source": [
    "print(\"Reduced 1D data\\n\",df_pca)"
   ]
  },
  {
   "cell_type": "code",
   "execution_count": 35,
   "metadata": {},
   "outputs": [],
   "source": [
    "df_recont = pca_1.inverse_transform(df_pca)"
   ]
  },
  {
   "cell_type": "code",
   "execution_count": 38,
   "metadata": {},
   "outputs": [
    {
     "name": "stdout",
     "output_type": "stream",
     "text": [
      "Recontructed data\n",
      " [[2.37175389 2.51664249]\n",
      " [0.62011637 0.59075168]\n",
      " [2.48481695 2.64095309]\n",
      " [2.00056819 2.10853115]\n",
      " [2.94204353 3.14366467]\n",
      " [2.43053727 2.58127365]\n",
      " [1.74718456 1.82994087]\n",
      " [1.04558175 1.05854245]\n",
      " [1.52082312 1.58106094]\n",
      " [1.03657436 1.048639  ]]\n"
     ]
    }
   ],
   "source": [
    "print(\"Recontructed data\\n\",df_recont)"
   ]
  },
  {
   "cell_type": "code",
   "execution_count": 42,
   "metadata": {},
   "outputs": [
    {
     "name": "stdout",
     "output_type": "stream",
     "text": [
      "original data\n",
      "\n"
     ]
    },
    {
     "data": {
      "text/html": [
       "<div>\n",
       "<style scoped>\n",
       "    .dataframe tbody tr th:only-of-type {\n",
       "        vertical-align: middle;\n",
       "    }\n",
       "\n",
       "    .dataframe tbody tr th {\n",
       "        vertical-align: top;\n",
       "    }\n",
       "\n",
       "    .dataframe thead th {\n",
       "        text-align: right;\n",
       "    }\n",
       "</style>\n",
       "<table border=\"1\" class=\"dataframe\">\n",
       "  <thead>\n",
       "    <tr style=\"text-align: right;\">\n",
       "      <th></th>\n",
       "      <th>x</th>\n",
       "      <th>y</th>\n",
       "    </tr>\n",
       "  </thead>\n",
       "  <tbody>\n",
       "    <tr>\n",
       "      <th>0</th>\n",
       "      <td>2.5</td>\n",
       "      <td>2.4</td>\n",
       "    </tr>\n",
       "    <tr>\n",
       "      <th>1</th>\n",
       "      <td>0.5</td>\n",
       "      <td>0.7</td>\n",
       "    </tr>\n",
       "    <tr>\n",
       "      <th>2</th>\n",
       "      <td>2.2</td>\n",
       "      <td>2.9</td>\n",
       "    </tr>\n",
       "    <tr>\n",
       "      <th>3</th>\n",
       "      <td>1.9</td>\n",
       "      <td>2.2</td>\n",
       "    </tr>\n",
       "    <tr>\n",
       "      <th>4</th>\n",
       "      <td>3.1</td>\n",
       "      <td>3.0</td>\n",
       "    </tr>\n",
       "    <tr>\n",
       "      <th>5</th>\n",
       "      <td>2.3</td>\n",
       "      <td>2.7</td>\n",
       "    </tr>\n",
       "    <tr>\n",
       "      <th>6</th>\n",
       "      <td>2.0</td>\n",
       "      <td>1.6</td>\n",
       "    </tr>\n",
       "    <tr>\n",
       "      <th>7</th>\n",
       "      <td>1.0</td>\n",
       "      <td>1.1</td>\n",
       "    </tr>\n",
       "    <tr>\n",
       "      <th>8</th>\n",
       "      <td>1.5</td>\n",
       "      <td>1.6</td>\n",
       "    </tr>\n",
       "    <tr>\n",
       "      <th>9</th>\n",
       "      <td>1.2</td>\n",
       "      <td>0.9</td>\n",
       "    </tr>\n",
       "  </tbody>\n",
       "</table>\n",
       "</div>"
      ],
      "text/plain": [
       "     x    y\n",
       "0  2.5  2.4\n",
       "1  0.5  0.7\n",
       "2  2.2  2.9\n",
       "3  1.9  2.2\n",
       "4  3.1  3.0\n",
       "5  2.3  2.7\n",
       "6  2.0  1.6\n",
       "7  1.0  1.1\n",
       "8  1.5  1.6\n",
       "9  1.2  0.9"
      ]
     },
     "execution_count": 42,
     "metadata": {},
     "output_type": "execute_result"
    }
   ],
   "source": [
    "print('original data\\n')\n",
    "df"
   ]
  },
  {
   "cell_type": "code",
   "execution_count": 45,
   "metadata": {},
   "outputs": [
    {
     "name": "stdout",
     "output_type": "stream",
     "text": [
      "Errors are\n",
      " [[0.03005254]\n",
      " [0.02636314]\n",
      " [0.148226  ]\n",
      " [0.01848051]\n",
      " [0.04558978]\n",
      " [0.03113592]\n",
      " [0.11678845]\n",
      " [0.00379642]\n",
      " [0.00079229]\n",
      " [0.04880149]]\n"
     ]
    }
   ],
   "source": [
    "#error\n",
    "error = np.zeros([len(df),1])\n",
    "for i in range(len(df)):\n",
    "    error[i] = (df_recont[i][0]-df.x[i])**2 + (df_recont[i][1]-df.y[i])**2\n",
    "    \n",
    "print('Errors are\\n',error)"
   ]
  },
  {
   "cell_type": "markdown",
   "metadata": {},
   "source": [
    "# <center>Final Results</center>"
   ]
  },
  {
   "cell_type": "code",
   "execution_count": 60,
   "metadata": {},
   "outputs": [
    {
     "data": {
      "text/html": [
       "<div>\n",
       "<style scoped>\n",
       "    .dataframe tbody tr th:only-of-type {\n",
       "        vertical-align: middle;\n",
       "    }\n",
       "\n",
       "    .dataframe tbody tr th {\n",
       "        vertical-align: top;\n",
       "    }\n",
       "\n",
       "    .dataframe thead th {\n",
       "        text-align: right;\n",
       "    }\n",
       "</style>\n",
       "<table border=\"1\" class=\"dataframe\">\n",
       "  <thead>\n",
       "    <tr style=\"text-align: right;\">\n",
       "      <th></th>\n",
       "      <th>x_orginal</th>\n",
       "      <th>y_orginal</th>\n",
       "      <th>reduced_1D_data</th>\n",
       "      <th>x_reconstructed</th>\n",
       "      <th>y_reconstructed</th>\n",
       "      <th>error</th>\n",
       "    </tr>\n",
       "  </thead>\n",
       "  <tbody>\n",
       "    <tr>\n",
       "      <th>0</th>\n",
       "      <td>2.5</td>\n",
       "      <td>2.4</td>\n",
       "      <td>-0.820029</td>\n",
       "      <td>2.371754</td>\n",
       "      <td>2.516642</td>\n",
       "      <td>0.030053</td>\n",
       "    </tr>\n",
       "    <tr>\n",
       "      <th>1</th>\n",
       "      <td>0.5</td>\n",
       "      <td>0.7</td>\n",
       "      <td>1.783294</td>\n",
       "      <td>0.620116</td>\n",
       "      <td>0.590752</td>\n",
       "      <td>0.026363</td>\n",
       "    </tr>\n",
       "    <tr>\n",
       "      <th>2</th>\n",
       "      <td>2.2</td>\n",
       "      <td>2.9</td>\n",
       "      <td>-0.988066</td>\n",
       "      <td>2.484817</td>\n",
       "      <td>2.640953</td>\n",
       "      <td>0.148226</td>\n",
       "    </tr>\n",
       "    <tr>\n",
       "      <th>3</th>\n",
       "      <td>1.9</td>\n",
       "      <td>2.2</td>\n",
       "      <td>-0.268364</td>\n",
       "      <td>2.000568</td>\n",
       "      <td>2.108531</td>\n",
       "      <td>0.018481</td>\n",
       "    </tr>\n",
       "    <tr>\n",
       "      <th>4</th>\n",
       "      <td>3.1</td>\n",
       "      <td>3.0</td>\n",
       "      <td>-1.667606</td>\n",
       "      <td>2.942044</td>\n",
       "      <td>3.143665</td>\n",
       "      <td>0.045590</td>\n",
       "    </tr>\n",
       "    <tr>\n",
       "      <th>5</th>\n",
       "      <td>2.3</td>\n",
       "      <td>2.7</td>\n",
       "      <td>-0.907394</td>\n",
       "      <td>2.430537</td>\n",
       "      <td>2.581274</td>\n",
       "      <td>0.031136</td>\n",
       "    </tr>\n",
       "    <tr>\n",
       "      <th>6</th>\n",
       "      <td>2.0</td>\n",
       "      <td>1.6</td>\n",
       "      <td>0.108220</td>\n",
       "      <td>1.747185</td>\n",
       "      <td>1.829941</td>\n",
       "      <td>0.116788</td>\n",
       "    </tr>\n",
       "    <tr>\n",
       "      <th>7</th>\n",
       "      <td>1.0</td>\n",
       "      <td>1.1</td>\n",
       "      <td>1.150958</td>\n",
       "      <td>1.045582</td>\n",
       "      <td>1.058542</td>\n",
       "      <td>0.003796</td>\n",
       "    </tr>\n",
       "    <tr>\n",
       "      <th>8</th>\n",
       "      <td>1.5</td>\n",
       "      <td>1.6</td>\n",
       "      <td>0.444643</td>\n",
       "      <td>1.520823</td>\n",
       "      <td>1.581061</td>\n",
       "      <td>0.000792</td>\n",
       "    </tr>\n",
       "    <tr>\n",
       "      <th>9</th>\n",
       "      <td>1.2</td>\n",
       "      <td>0.9</td>\n",
       "      <td>1.164345</td>\n",
       "      <td>1.036574</td>\n",
       "      <td>1.048639</td>\n",
       "      <td>0.048801</td>\n",
       "    </tr>\n",
       "  </tbody>\n",
       "</table>\n",
       "</div>"
      ],
      "text/plain": [
       "   x_orginal  y_orginal  reduced_1D_data  x_reconstructed  y_reconstructed  \\\n",
       "0        2.5        2.4        -0.820029         2.371754         2.516642   \n",
       "1        0.5        0.7         1.783294         0.620116         0.590752   \n",
       "2        2.2        2.9        -0.988066         2.484817         2.640953   \n",
       "3        1.9        2.2        -0.268364         2.000568         2.108531   \n",
       "4        3.1        3.0        -1.667606         2.942044         3.143665   \n",
       "5        2.3        2.7        -0.907394         2.430537         2.581274   \n",
       "6        2.0        1.6         0.108220         1.747185         1.829941   \n",
       "7        1.0        1.1         1.150958         1.045582         1.058542   \n",
       "8        1.5        1.6         0.444643         1.520823         1.581061   \n",
       "9        1.2        0.9         1.164345         1.036574         1.048639   \n",
       "\n",
       "      error  \n",
       "0  0.030053  \n",
       "1  0.026363  \n",
       "2  0.148226  \n",
       "3  0.018481  \n",
       "4  0.045590  \n",
       "5  0.031136  \n",
       "6  0.116788  \n",
       "7  0.003796  \n",
       "8  0.000792  \n",
       "9  0.048801  "
      ]
     },
     "execution_count": 60,
     "metadata": {},
     "output_type": "execute_result"
    }
   ],
   "source": [
    "result = {'x_orginal' : df.x,\n",
    "         'y_orginal' : df.y,\n",
    "         'reduced_1D_data' : df_pca[:,0],\n",
    "         'x_reconstructed' : df_recont[:,0],\n",
    "         'y_reconstructed' : df_recont[:,1],\n",
    "         'error' : error[:,0]}\n",
    "\n",
    "result_df = pd.DataFrame(result)\n",
    "\n",
    "result_df"
   ]
  },
  {
   "cell_type": "code",
   "execution_count": 63,
   "metadata": {},
   "outputs": [
    {
     "data": {
      "text/plain": [
       "Text(0.5, 1.0, 'Reduced 1D data')"
      ]
     },
     "execution_count": 63,
     "metadata": {},
     "output_type": "execute_result"
    },
    {
     "data": {
      "image/png": "[encoded data removed]",
      "text/plain": [
       "<Figure size 432x288 with 2 Axes>"
      ]
     },
     "metadata": {
      "needs_background": "light"
     },
     "output_type": "display_data"
    }
   ],
   "source": [
    "plt.subplot(1,3,1)\n",
    "plt.scatter(df.x,df.y)\n",
    "plt.xlabel('x')\n",
    "plt.ylabel('y')\n",
    "plt.title('Original data')\n",
    "\n",
    "plt.subplot(1,3,2)\n",
    "plt.scatter(x=df_pca[:,0], y=df_pca[:,0])\n",
    "plt.xlabel('x_red')\n",
    "plt.ylabel('y_red')\n",
    "plt.title('Reduced 1D data')"
   ]
  }
 ],
 "metadata": {
  "kernelspec": {
   "display_name": "Python 3",
   "language": "python",
   "name": "python3"
  },
  "language_info": {
   "codemirror_mode": {
    "name": "ipython",
    "version": 3
   },
   "file_extension": ".py",
   "mimetype": "text/x-python",
   "name": "python",
   "nbconvert_exporter": "python",
   "pygments_lexer": "ipython3",
   "version": "3.8.5"
  }
 },
 "nbformat": 4,
 "nbformat_minor": 4
}
