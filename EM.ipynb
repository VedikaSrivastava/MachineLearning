{
 "cells": [
  {
   "cell_type": "markdown",
   "metadata": {
    "id": "g8GcqlT8lO5r"
   },
   "source": [
    "Author: Vedika Srivastava<br>\n",
    "Data Created: 31/05/2021<br>\n",
    "Title: Expectation_Maximization"
   ]
  },
  {
   "cell_type": "markdown",
   "metadata": {
    "id": "iMzUkkshpdmv"
   },
   "source": [
    "\n",
    "\n",
    "---\n",
    "\n",
    "\n",
    "\n",
    "# There are 3 points (2,4,7). Estimate the gaussian distribution from which these points are generated. Consider two gaussian distributions with the same variance of 1/root(2) and different means mu1=3 and mu2=6\n",
    "\n",
    "---\n",
    "\n"
   ]
  },
  {
   "cell_type": "code",
   "execution_count": null,
   "metadata": {
    "id": "nq9iDEaHj99X"
   },
   "outputs": [],
   "source": [
    "#import libraries\n",
    "import numpy as np\n",
    "import matplotlib.pyplot as plt\n",
    "from sklearn.mixture import GaussianMixture"
   ]
  },
  {
   "cell_type": "code",
   "execution_count": null,
   "metadata": {
    "id": "NNn1Cdy_q0jB"
   },
   "outputs": [],
   "source": [
    "#generate gaussion distribution\n",
    "g1 = np.random.normal(3, (1/np.sqrt(2)),1000)\n",
    "g2 = np.random.normal(6, (1/np.sqrt(2)),1000)\n",
    "g= np.hstack((g1,g2))"
   ]
  },
  {
   "cell_type": "code",
   "execution_count": null,
   "metadata": {
    "colab": {
     "base_uri": "https://localhost:8080/",
     "height": 282
    },
    "executionInfo": {
     "elapsed": 452,
     "status": "ok",
     "timestamp": 1622454508922,
     "user": {
      "displayName": "Vedika Srivastava",
      "photoUrl": "",
      "userId": "18222234923205868493"
     },
     "user_tz": -330
    },
    "id": "-MnhEeAwrTaF",
    "outputId": "c695657b-cb6c-4ac7-d4e2-05c42e4d11fb"
   },
   "outputs": [
    {
     "data": {
      "text/plain": [
       "[<matplotlib.lines.Line2D at 0x7fb8170ceed0>]"
      ]
     },
     "execution_count": 60,
     "metadata": {
      "tags": []
     },
     "output_type": "execute_result"
    },
    {
     "data": {
      "image/png": "[encoded data removed]",
      "text/plain": [
       "<Figure size 432x288 with 1 Axes>"
      ]
     },
     "metadata": {
      "needs_background": "light",
      "tags": []
     },
     "output_type": "display_data"
    }
   ],
   "source": [
    "#plot GD-1\n",
    "count,bins,ignored = plt.hist(g1 ,30,density=True)\n",
    "plt.plot(bins, np.exp(-((bins - 3)**2) / (2 /np.sqrt(2)))/(np.sqrt(2 * np.pi * (1/np.sqrt(2)))) , linewidth=2 ,color='r')\n",
    "\n",
    "#plot GD-2\n",
    "count,bins,ignored = plt.hist(g2 ,30,density=True)\n",
    "plt.plot(bins, np.exp( - ((bins - 6)**2) / (2 /np.sqrt(2)))/(np.sqrt(2 * np.pi * (1/np.sqrt(2)))) , linewidth=2,color='r' )"
   ]
  },
  {
   "cell_type": "code",
   "execution_count": null,
   "metadata": {
    "colab": {
     "base_uri": "https://localhost:8080/"
    },
    "executionInfo": {
     "elapsed": 5,
     "status": "ok",
     "timestamp": 1622453668421,
     "user": {
      "displayName": "Vedika Srivastava",
      "photoUrl": "",
      "userId": "18222234923205868493"
     },
     "user_tz": -330
    },
    "id": "jd_GqZogsTIo",
    "outputId": "77858500-a8cb-48d4-94de-f9f1fec8b3a1"
   },
   "outputs": [
    {
     "data": {
      "text/plain": [
       "GaussianMixture(covariance_type='full', init_params='kmeans', max_iter=100,\n",
       "                means_init=None, n_components=2, n_init=1, precisions_init=None,\n",
       "                random_state=0, reg_covar=1e-06, tol=0.001, verbose=0,\n",
       "                verbose_interval=10, warm_start=False, weights_init=None)"
      ]
     },
     "execution_count": 54,
     "metadata": {
      "tags": []
     },
     "output_type": "execute_result"
    }
   ],
   "source": [
    "g = g.reshape((len(g),1))\n",
    "gm = GaussianMixture(n_components=2, random_state=0)\n",
    "gm.fit(g)"
   ]
  },
  {
   "cell_type": "code",
   "execution_count": null,
   "metadata": {
    "colab": {
     "base_uri": "https://localhost:8080/"
    },
    "executionInfo": {
     "elapsed": 4,
     "status": "ok",
     "timestamp": 1622453206781,
     "user": {
      "displayName": "Vedika Srivastava",
      "photoUrl": "",
      "userId": "18222234923205868493"
     },
     "user_tz": -330
    },
    "id": "sk6EzC0ds253",
    "outputId": "f3b7f0b0-172d-48b4-eb12-e042bdddb86b"
   },
   "outputs": [
    {
     "data": {
      "text/plain": [
       "array([[3.04863355],\n",
       "       [6.00218251]])"
      ]
     },
     "execution_count": 46,
     "metadata": {
      "tags": []
     },
     "output_type": "execute_result"
    }
   ],
   "source": [
    "gm.means_"
   ]
  },
  {
   "cell_type": "code",
   "execution_count": null,
   "metadata": {
    "id": "wrH9Jhdzs5XE"
   },
   "outputs": [],
   "source": [
    "x2 = np.array([2,4,7]).reshape((3,1))\n",
    "\n",
    "y = gm.predict(x2)"
   ]
  },
  {
   "cell_type": "code",
   "execution_count": null,
   "metadata": {
    "colab": {
     "base_uri": "https://localhost:8080/"
    },
    "executionInfo": {
     "elapsed": 6,
     "status": "ok",
     "timestamp": 1622452817947,
     "user": {
      "displayName": "Vedika Srivastava",
      "photoUrl": "",
      "userId": "18222234923205868493"
     },
     "user_tz": -330
    },
    "id": "QKpZDqJMuBts",
    "outputId": "28f0490a-6733-4919-d20d-8de1b09de131"
   },
   "outputs": [
    {
     "data": {
      "text/plain": [
       "array([0, 0, 1])"
      ]
     },
     "execution_count": 32,
     "metadata": {
      "tags": []
     },
     "output_type": "execute_result"
    }
   ],
   "source": [
    "y"
   ]
  }
 ],
 "metadata": {
  "colab": {
   "authorship_tag": "ABX9TyPLlDAi7mWLEs46dYPaFtXS",
   "collapsed_sections": [],
   "name": "ML_Exp7_PB-08.ipynb",
   "provenance": []
  },
  "kernelspec": {
   "display_name": "Python 3",
   "language": "python",
   "name": "python3"
  },
  "language_info": {
   "codemirror_mode": {
    "name": "ipython",
    "version": 3
   },
   "file_extension": ".py",
   "mimetype": "text/x-python",
   "name": "python",
   "nbconvert_exporter": "python",
   "pygments_lexer": "ipython3",
   "version": "3.8.5"
  }
 },
 "nbformat": 4,
 "nbformat_minor": 1
}
