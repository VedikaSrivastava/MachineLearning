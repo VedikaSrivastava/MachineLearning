{
 "cells": [
  {
   "cell_type": "markdown",
   "metadata": {},
   "source": [
    "Author: Vedika Srivastava<br>\n",
    "Date created: 05/04/2021<br>\n",
    "Title: Bayes_ Decision_Theory"
   ]
  },
  {
   "cell_type": "code",
   "execution_count": 1,
   "metadata": {},
   "outputs": [],
   "source": [
    "#importing libraries\n",
    "import pandas as pd\n",
    "import numpy as np"
   ]
  },
  {
   "cell_type": "code",
   "execution_count": 2,
   "metadata": {},
   "outputs": [
    {
     "data": {
      "text/html": [
       "<div>\n",
       "<style scoped>\n",
       "    .dataframe tbody tr th:only-of-type {\n",
       "        vertical-align: middle;\n",
       "    }\n",
       "\n",
       "    .dataframe tbody tr th {\n",
       "        vertical-align: top;\n",
       "    }\n",
       "\n",
       "    .dataframe thead th {\n",
       "        text-align: right;\n",
       "    }\n",
       "</style>\n",
       "<table border=\"1\" class=\"dataframe\">\n",
       "  <thead>\n",
       "    <tr style=\"text-align: right;\">\n",
       "      <th></th>\n",
       "      <th>X1</th>\n",
       "      <th>X2</th>\n",
       "      <th>Y</th>\n",
       "    </tr>\n",
       "  </thead>\n",
       "  <tbody>\n",
       "    <tr>\n",
       "      <th>0</th>\n",
       "      <td>3.393533</td>\n",
       "      <td>2.331273</td>\n",
       "      <td>0</td>\n",
       "    </tr>\n",
       "    <tr>\n",
       "      <th>1</th>\n",
       "      <td>3.110073</td>\n",
       "      <td>1.781540</td>\n",
       "      <td>0</td>\n",
       "    </tr>\n",
       "    <tr>\n",
       "      <th>2</th>\n",
       "      <td>1.343809</td>\n",
       "      <td>3.368361</td>\n",
       "      <td>0</td>\n",
       "    </tr>\n",
       "    <tr>\n",
       "      <th>3</th>\n",
       "      <td>3.582294</td>\n",
       "      <td>4.679179</td>\n",
       "      <td>0</td>\n",
       "    </tr>\n",
       "    <tr>\n",
       "      <th>4</th>\n",
       "      <td>2.280362</td>\n",
       "      <td>2.866990</td>\n",
       "      <td>0</td>\n",
       "    </tr>\n",
       "    <tr>\n",
       "      <th>5</th>\n",
       "      <td>7.423437</td>\n",
       "      <td>4.696523</td>\n",
       "      <td>1</td>\n",
       "    </tr>\n",
       "    <tr>\n",
       "      <th>6</th>\n",
       "      <td>5.745052</td>\n",
       "      <td>3.533990</td>\n",
       "      <td>1</td>\n",
       "    </tr>\n",
       "    <tr>\n",
       "      <th>7</th>\n",
       "      <td>9.172169</td>\n",
       "      <td>2.511101</td>\n",
       "      <td>1</td>\n",
       "    </tr>\n",
       "    <tr>\n",
       "      <th>8</th>\n",
       "      <td>7.792783</td>\n",
       "      <td>3.424089</td>\n",
       "      <td>1</td>\n",
       "    </tr>\n",
       "    <tr>\n",
       "      <th>9</th>\n",
       "      <td>7.939821</td>\n",
       "      <td>0.791637</td>\n",
       "      <td>1</td>\n",
       "    </tr>\n",
       "  </tbody>\n",
       "</table>\n",
       "</div>"
      ],
      "text/plain": [
       "         X1        X2  Y\n",
       "0  3.393533  2.331273  0\n",
       "1  3.110073  1.781540  0\n",
       "2  1.343809  3.368361  0\n",
       "3  3.582294  4.679179  0\n",
       "4  2.280362  2.866990  0\n",
       "5  7.423437  4.696523  1\n",
       "6  5.745052  3.533990  1\n",
       "7  9.172169  2.511101  1\n",
       "8  7.792783  3.424089  1\n",
       "9  7.939821  0.791637  1"
      ]
     },
     "execution_count": 2,
     "metadata": {},
     "output_type": "execute_result"
    }
   ],
   "source": [
    "#define dataset\n",
    "data = {'X1': [3.393533211,\n",
    "               3.110073483,\n",
    "               1.343808831,\n",
    "               3.582294042,\n",
    "               2.280362439,\n",
    "               7.423436942,\n",
    "               5.745051997,\n",
    "               9.172168622,\n",
    "               7.792783481,\n",
    "               7.939820817],\n",
    "       'X2' : [2.331273381,\n",
    "               1.781539638,\n",
    "               3.368360954,\n",
    "               4.67917911,\n",
    "               2.866990263,\n",
    "               4.696522875,\n",
    "               3.533989803,\n",
    "               2.511101045,\n",
    "               3.424088941,\n",
    "               0.791637231],\n",
    "       'Y' : [0,0,0,0,0,1,1,1,1,1]}\n",
    "\n",
    "df = pd.DataFrame(data, columns = ['X1','X2','Y'])\n",
    "\n",
    "df"
   ]
  },
  {
   "cell_type": "code",
   "execution_count": 45,
   "metadata": {},
   "outputs": [
    {
     "name": "stdout",
     "output_type": "stream",
     "text": [
      "Class means are =  [2.8737415351999998, 5.303060175400001]\n"
     ]
    }
   ],
   "source": [
    "#calculate mean\n",
    "class_y = df['Y'].unique()\n",
    "mean = []\n",
    "for c in class_y:\n",
    "    d = df[df.Y == c]\n",
    "    mean.append((d['X1'].sum() + d['X2'].sum())/(len(d)*2))\n",
    "\n",
    "print(\"Class means are = \",mean)    "
   ]
  },
  {
   "cell_type": "code",
   "execution_count": 41,
   "metadata": {},
   "outputs": [
    {
     "name": "stdout",
     "output_type": "stream",
     "text": [
      "Class variances are =  [0.8512351130060838, 6.798858654185379]\n"
     ]
    }
   ],
   "source": [
    "#calculate variance\n",
    "class_y = df['Y'].unique()\n",
    "variance = []\n",
    "for c in class_y:\n",
    "    ite =  0\n",
    "    d = df[df.Y == c].reset_index()\n",
    "    for i in range(len(d)):\n",
    "        ite += ((d.X1[i]-mean[c])**2) + ((d.X2[i]-mean[c])**2)\n",
    "    variance.append(ite/(len(d)*2))  \n",
    "    \n",
    "print(\"Class variances are = \", variance)"
   ]
  },
  {
   "cell_type": "code",
   "execution_count": 62,
   "metadata": {},
   "outputs": [],
   "source": [
    "#prior probability\n",
    "\"\"\"\n",
    "From table we can conclude that P(w1) = P(w2)\n",
    "Therefore Prior Probability will be 0.5\n",
    "\"\"\"\n",
    "prior = 0.5"
   ]
  },
  {
   "cell_type": "code",
   "execution_count": 47,
   "metadata": {},
   "outputs": [],
   "source": [
    "#likelihood / class conditional probability\n",
    "def likelihood(x,m,v):\n",
    "    cc = []\n",
    "    dem = (2*np.pi*v)**0.5\n",
    "    for val in x:\n",
    "        num = np.exp((-(val-m)**2)/(2*v))\n",
    "        cc.append(num/dem)\n",
    "    return cc"
   ]
  },
  {
   "cell_type": "code",
   "execution_count": 54,
   "metadata": {},
   "outputs": [
    {
     "name": "stdout",
     "output_type": "stream",
     "text": [
      "Class conditional probabilities are\n",
      "P(X1|class1) = [0.36894567138045153, 0.4184440919944445, 0.10934074802158887, 0.3219696030373117, 0.35161393830508253, 2.267010783577602e-06, 0.003410046245455252, 3.282113577161864e-11, 2.9061494557021424e-07, 1.2268421385398324e-07] \n",
      "\n",
      "P(X1|class2) = [0.11701294440533655, 0.10742179002256064, 0.04830924701074173, 0.12306092743421722, 0.0781406411522922, 0.10992472475797818, 0.15081780055136057, 0.05088251147590569, 0.09698675880793388, 0.09175663712978083] \n",
      "\n",
      "P(X2|class1) = [0.3637622029020722, 0.21457504600653032, 0.37452112312323754, 0.06373396952955297, 0.4323880410072851, 0.06142122960606601, 0.33471993464653477, 0.4002561525584194, 0.3619270507232786, 0.03388448233147522] \n",
      "\n",
      "P(X2|class2) = [0.07991424519395429, 0.06146329697452362, 0.11618318041749036, 0.1486827571527904, 0.09889023356424786, 0.14891628120387196, 0.12154473173492077, 0.08624385045419959, 0.1180133533859082, 0.03424870166358048]\n"
     ]
    }
   ],
   "source": [
    "X1_class1 = likelihood(df.X1,mean[0],variance[0])\n",
    "X1_class2 = likelihood(df.X1,mean[1],variance[1])\n",
    "\n",
    "X2_class1 = likelihood(df.X2,mean[0],variance[0])\n",
    "X2_class2 = likelihood(df.X2,mean[1],variance[1])\n",
    "\n",
    "\n",
    "print(\"Class conditional probabilities are\\nP(X1|class1) =\",X1_class1,\"\\n\\nP(X1|class2) =\",X1_class2,\n",
    "      \"\\n\\nP(X2|class1) =\",X2_class1,\"\\n\\nP(X2|class2) =\",X2_class2)"
   ]
  },
  {
   "cell_type": "code",
   "execution_count": 63,
   "metadata": {},
   "outputs": [
    {
     "name": "stdout",
     "output_type": "stream",
     "text": [
      "Posterior probabilities of '0' are = \n",
      " [6.71042451e-02 4.48938301e-02 2.04752099e-02 1.02602004e-02\n",
      " 7.60168310e-02 6.96212949e-08 5.70705228e-04 6.56843076e-12\n",
      " 5.25907051e-08 2.07854554e-09]\n",
      "\n",
      "Posterior probabilities of '1' are = \n",
      " [0.0046755  0.00330125 0.00280636 0.00914852 0.00386367 0.00818479\n",
      " 0.00916555 0.00219415 0.00572287 0.00157127]\n"
     ]
    }
   ],
   "source": [
    "#posterior probabilities\n",
    "post_class1 = np.multiply(X1_class1,X2_class1) * prior\n",
    "post_class2 = np.multiply(X1_class2,X2_class2) * prior\n",
    "\n",
    "print(\"Posterior probabilities of '0' are = \\n\",post_class1)\n",
    "print(\"\\nPosterior probabilities of '1' are = \\n\",post_class2)"
   ]
  },
  {
   "cell_type": "code",
   "execution_count": 64,
   "metadata": {},
   "outputs": [
    {
     "name": "stdout",
     "output_type": "stream",
     "text": [
      "0\n",
      "0\n",
      "0\n",
      "0\n",
      "0\n",
      "1\n",
      "1\n",
      "1\n",
      "1\n",
      "1\n"
     ]
    }
   ],
   "source": [
    "#decision rule / prediction\n",
    "for i in range(len(df)):\n",
    "    if (post_class1[i]>post_class2[i]):\n",
    "        print('0')\n",
    "    else:\n",
    "        print('1') "
   ]
  },
  {
   "cell_type": "markdown",
   "metadata": {},
   "source": [
    "# <center>Bayes' Classification - Function</center>"
   ]
  },
  {
   "cell_type": "code",
   "execution_count": 96,
   "metadata": {},
   "outputs": [],
   "source": [
    " def classify(df):\n",
    "        prior = 0.5\n",
    "        def mean_c():\n",
    "            mean = []\n",
    "            class_y = df['Y'].unique()\n",
    "            for c in class_y:\n",
    "                d = df[df.Y == c]\n",
    "                mean.append((d['X1'].sum() + d['X2'].sum())/(len(d)*2))\n",
    "            return mean\n",
    "        \n",
    "        def variance_c():\n",
    "            variance = []\n",
    "            class_y = df['Y'].unique()\n",
    "            for c in class_y:\n",
    "                ite =  0\n",
    "                d = df[df.Y == c].reset_index()\n",
    "                for i in range(len(d)):\n",
    "                    ite += ((d.X1[i]-means[c])**2) + ((d.X2[i]-means[c])**2)\n",
    "                variance.append(ite/(len(d)*2))\n",
    "            return variance\n",
    "        \n",
    "        def likelihood(x,m,v):\n",
    "            cc = []\n",
    "            dem = (2*np.pi*v)**0.5\n",
    "            for val in x:\n",
    "                num = np.exp((-(val-m)**2)/(2*v))\n",
    "                cc.append(num/dem)\n",
    "            return cc\n",
    "        \n",
    "        def posterior():\n",
    "            mean = mean_c()\n",
    "            variance = variance_c()\n",
    "            \n",
    "            X1_class1 = likelihood(df.X1,mean[0],variance[0])\n",
    "            X1_class2 = likelihood(df.X1,mean[1],variance[1])\n",
    "\n",
    "            X2_class1 = likelihood(df.X2,mean[0],variance[0])\n",
    "            X2_class2 = likelihood(df.X2,mean[1],variance[1])\n",
    "            \n",
    "            post_class1 = np.multiply(X1_class1,X2_class1) * prior\n",
    "            post_class2 = np.multiply(X1_class2,X2_class2) * prior\n",
    "            return (post_class1,post_class2)\n",
    "            \n",
    "        predict=[]\n",
    "        post_class1,post_class2 = posterior()\n",
    "        for i in range(len(df)):\n",
    "            if (post_class1[i]>post_class2[i]):\n",
    "                predict.append(0)\n",
    "            else:\n",
    "                predict.append(1)\n",
    "        \n",
    "        return predict"
   ]
  },
  {
   "cell_type": "code",
   "execution_count": 116,
   "metadata": {},
   "outputs": [],
   "source": [
    "def display_output(p):\n",
    "    out = pd.DataFrame({\"Original Output\" : df.Y, \"Predicted Output\" : p},columns = ['Original Output','Predicted Output'],)\n",
    "    print(out.to_string(index=False))"
   ]
  },
  {
   "cell_type": "markdown",
   "metadata": {},
   "source": [
    "# <center>Final Output</center>"
   ]
  },
  {
   "cell_type": "code",
   "execution_count": 66,
   "metadata": {},
   "outputs": [
    {
     "data": {
      "text/html": [
       "<div>\n",
       "<style scoped>\n",
       "    .dataframe tbody tr th:only-of-type {\n",
       "        vertical-align: middle;\n",
       "    }\n",
       "\n",
       "    .dataframe tbody tr th {\n",
       "        vertical-align: top;\n",
       "    }\n",
       "\n",
       "    .dataframe thead th {\n",
       "        text-align: right;\n",
       "    }\n",
       "</style>\n",
       "<table border=\"1\" class=\"dataframe\">\n",
       "  <thead>\n",
       "    <tr style=\"text-align: right;\">\n",
       "      <th></th>\n",
       "      <th>X1</th>\n",
       "      <th>X2</th>\n",
       "      <th>Y</th>\n",
       "    </tr>\n",
       "  </thead>\n",
       "  <tbody>\n",
       "    <tr>\n",
       "      <th>0</th>\n",
       "      <td>3.393533</td>\n",
       "      <td>2.331273</td>\n",
       "      <td>0</td>\n",
       "    </tr>\n",
       "    <tr>\n",
       "      <th>1</th>\n",
       "      <td>3.110073</td>\n",
       "      <td>1.781540</td>\n",
       "      <td>0</td>\n",
       "    </tr>\n",
       "    <tr>\n",
       "      <th>2</th>\n",
       "      <td>1.343809</td>\n",
       "      <td>3.368361</td>\n",
       "      <td>0</td>\n",
       "    </tr>\n",
       "    <tr>\n",
       "      <th>3</th>\n",
       "      <td>3.582294</td>\n",
       "      <td>4.679179</td>\n",
       "      <td>0</td>\n",
       "    </tr>\n",
       "    <tr>\n",
       "      <th>4</th>\n",
       "      <td>2.280362</td>\n",
       "      <td>2.866990</td>\n",
       "      <td>0</td>\n",
       "    </tr>\n",
       "    <tr>\n",
       "      <th>5</th>\n",
       "      <td>7.423437</td>\n",
       "      <td>4.696523</td>\n",
       "      <td>1</td>\n",
       "    </tr>\n",
       "    <tr>\n",
       "      <th>6</th>\n",
       "      <td>5.745052</td>\n",
       "      <td>3.533990</td>\n",
       "      <td>1</td>\n",
       "    </tr>\n",
       "    <tr>\n",
       "      <th>7</th>\n",
       "      <td>9.172169</td>\n",
       "      <td>2.511101</td>\n",
       "      <td>1</td>\n",
       "    </tr>\n",
       "    <tr>\n",
       "      <th>8</th>\n",
       "      <td>7.792783</td>\n",
       "      <td>3.424089</td>\n",
       "      <td>1</td>\n",
       "    </tr>\n",
       "    <tr>\n",
       "      <th>9</th>\n",
       "      <td>7.939821</td>\n",
       "      <td>0.791637</td>\n",
       "      <td>1</td>\n",
       "    </tr>\n",
       "  </tbody>\n",
       "</table>\n",
       "</div>"
      ],
      "text/plain": [
       "         X1        X2  Y\n",
       "0  3.393533  2.331273  0\n",
       "1  3.110073  1.781540  0\n",
       "2  1.343809  3.368361  0\n",
       "3  3.582294  4.679179  0\n",
       "4  2.280362  2.866990  0\n",
       "5  7.423437  4.696523  1\n",
       "6  5.745052  3.533990  1\n",
       "7  9.172169  2.511101  1\n",
       "8  7.792783  3.424089  1\n",
       "9  7.939821  0.791637  1"
      ]
     },
     "execution_count": 66,
     "metadata": {},
     "output_type": "execute_result"
    }
   ],
   "source": [
    "data = {'X1': [3.393533211,\n",
    "               3.110073483,\n",
    "               1.343808831,\n",
    "               3.582294042,\n",
    "               2.280362439,\n",
    "               7.423436942,\n",
    "               5.745051997,\n",
    "               9.172168622,\n",
    "               7.792783481,\n",
    "               7.939820817],\n",
    "       'X2' : [2.331273381,\n",
    "               1.781539638,\n",
    "               3.368360954,\n",
    "               4.67917911,\n",
    "               2.866990263,\n",
    "               4.696522875,\n",
    "               3.533989803,\n",
    "               2.511101045,\n",
    "               3.424088941,\n",
    "               0.791637231],\n",
    "       'Y' : [0,0,0,0,0,1,1,1,1,1]}\n",
    "\n",
    "df = pd.DataFrame(data, columns = ['X1','X2','Y'])\n",
    "\n",
    "df"
   ]
  },
  {
   "cell_type": "code",
   "execution_count": 117,
   "metadata": {},
   "outputs": [
    {
     "name": "stdout",
     "output_type": "stream",
     "text": [
      " Original Output  Predicted Output\n",
      "               0                 0\n",
      "               0                 0\n",
      "               0                 0\n",
      "               0                 0\n",
      "               0                 0\n",
      "               1                 1\n",
      "               1                 1\n",
      "               1                 1\n",
      "               1                 1\n",
      "               1                 1\n"
     ]
    }
   ],
   "source": [
    "display_output(classify(df))"
   ]
  }
 ],
 "metadata": {
  "kernelspec": {
   "display_name": "Python 3",
   "language": "python",
   "name": "python3"
  },
  "language_info": {
   "codemirror_mode": {
    "name": "ipython",
    "version": 3
   },
   "file_extension": ".py",
   "mimetype": "text/x-python",
   "name": "python",
   "nbconvert_exporter": "python",
   "pygments_lexer": "ipython3",
   "version": "3.8.5"
  }
 },
 "nbformat": 4,
 "nbformat_minor": 4
}
